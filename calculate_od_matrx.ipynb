{
 "cells": [
  {
   "cell_type": "markdown",
   "metadata": {},
   "source": [
    "The main() function orchestrates the execution of these steps. It loads the data,\n",
    "\n",
    "* converts H3 indices to Shapely polygons and points\n",
    "* creates a GeoDataFrame\n",
    "* reads the OSM network nodes\n",
    "* converts the CRS of the nodes\n",
    "* reads the farm data\n",
    "* finds the closest OSM ID for each point in the GeoDataFrames\n",
    "* loads the graph\n",
    "* gets the unique OSM IDs\n",
    "* calculates the OD matrix\n",
    "* restructures the OD matrix\n",
    "* applies cost to the transport cost\n",
    "* and finally stores the data to pickle files\n",
    "\n",
    "The script is designed to be run as a **standalone program.**"
   ]
  },
  {
   "cell_type": "code",
   "execution_count": 23,
   "metadata": {},
   "outputs": [],
   "source": [
    "# Import necessary libraries\n",
    "from utils.cflp_function import store_data_to_pickle\n",
    "import matplotlib.pyplot as plt\n",
    "import networkx as nx\n",
    "import osmnx as ox\n",
    "import geopandas as gpd\n",
    "import pandas as pd\n",
    "import h3\n",
    "from shapely.ops import nearest_points\n",
    "from shapely.geometry import Polygon, Point\n",
    "from fiona.crs import from_epsg"
   ]
  },
  {
   "cell_type": "code",
   "execution_count": 24,
   "metadata": {},
   "outputs": [],
   "source": [
    "# Define constants\n",
    "COST_PER_KM = 0.69\n",
    "MAIN_CRS = 'EPSG:4326'"
   ]
  },
  {
   "cell_type": "code",
   "execution_count": 25,
   "metadata": {},
   "outputs": [],
   "source": [
    "# Function to load data from a CSV file\n",
    "def load_data(file_path):\n",
    "    return pd.read_csv(file_path)"
   ]
  },
  {
   "cell_type": "code",
   "execution_count": 26,
   "metadata": {},
   "outputs": [],
   "source": [
    "# Function to convert H3 index to Shapely polygon\n",
    "def cell_to_shapely_polygon(h3_index):\n",
    "    coords = h3.h3_to_geo_boundary(h3_index)\n",
    "    flipped = tuple(coord[::-1] for coord in coords)\n",
    "    return Polygon(flipped)"
   ]
  },
  {
   "cell_type": "code",
   "execution_count": 27,
   "metadata": {},
   "outputs": [],
   "source": [
    "# Function to convert H3 index to Shapely point\n",
    "def cell_to_shaply_point(h3_index):\n",
    "    lat, lon = h3.h3_to_geo(h3_index)\n",
    "    return Point(lon, lat)"
   ]
  },
  {
   "cell_type": "code",
   "execution_count": 28,
   "metadata": {},
   "outputs": [],
   "source": [
    "# Function to find the closest OSM ID for each point in a GeoDataFrame\n",
    "def find_closest_osmid(gdf, n):\n",
    "    gdf['closest_osmid'] = gdf['geometry'].apply(\n",
    "        lambda location: n.loc[n['geometry'] == nearest_points(location, n.unary_union)[1], 'osmid'].iloc[0])"
   ]
  },
  {
   "cell_type": "code",
   "execution_count": 29,
   "metadata": {},
   "outputs": [],
   "source": [
    "# Function to calculate the OD matrix\n",
    "def calculate_od_matrix(orig, dest, g):\n",
    "    od_matrix = {}\n",
    "    for origin in orig:\n",
    "        od_matrix[origin] = {}\n",
    "        for destination in dest:\n",
    "            distance = nx.shortest_path_length(g, origin, destination, weight='length')\n",
    "            od_matrix[origin][destination] = distance/1000\n",
    "    return od_matrix\n"
   ]
  },
  {
   "cell_type": "code",
   "execution_count": 30,
   "metadata": {},
   "outputs": [],
   "source": [
    "# Function to restructure the OD matrix\n",
    "def restructure_od(new_nested_dict, loi_gdf):\n",
    "    placeholders = {i:j for i, j in zip(loi_gdf.index.values, loi_gdf['closest_osmid'])}\n",
    "    restructured_od = {}\n",
    "\n",
    "    for farm, distances in new_nested_dict.items():\n",
    "        restructured_od[farm] = {}\n",
    "        for index, placeholder in placeholders.items():\n",
    "            restructured_od[farm][index] = distances.get(placeholder, None)\n",
    "\n",
    "    transport_cost = {(farm, index): distance for farm, distances in restructured_od.items() for index, distance in distances.items()}\n",
    "    return transport_cost\n",
    "\n",
    "    "
   ]
  },
  {
   "cell_type": "code",
   "execution_count": 31,
   "metadata": {},
   "outputs": [],
   "source": [
    "# Function to apply cost to the transport cost\n",
    "def apply_cost(transport_cost, cost_per_km=COST_PER_KM):\n",
    "    return {key: value * cost_per_km for key, value in transport_cost.items()}"
   ]
  },
  {
   "cell_type": "code",
   "execution_count": 32,
   "metadata": {},
   "outputs": [],
   "source": [
    "# Main function to execute the code\n",
    "def main():\n",
    "    # Load data\n",
    "    loi = load_data('./hex/loi.csv')\n",
    "    loi['polygon'] = loi['hex9'].apply(lambda x: cell_to_shapely_polygon(x)) \n",
    "    loi['geometry'] = loi['hex9'].apply(cell_to_shaply_point)\n",
    "    loi_gdf = gpd.GeoDataFrame(loi, geometry='geometry', crs=MAIN_CRS)\n",
    "    n = gpd.read_file(r\"./osm_network/G_n.shp\")\n",
    "    n = n.to_crs(MAIN_CRS)\n",
    "    farm = gpd.read_file(\"./farm/farm_new.shp\")\n",
    "    \n",
    "    # Find the closest OSM ID for each point in the GeoDataFrames\n",
    "    find_closest_osmid(farm, n)\n",
    "    find_closest_osmid(loi_gdf, n)\n",
    "    \n",
    "    # Load the graph\n",
    "    g = ox.load_graphml('./osm_network/G.graphml') \n",
    "    \n",
    "    # Get the unique OSM IDs\n",
    "    orig = farm['closest_osmid'].unique().tolist()\n",
    "    dest = loi_gdf['closest_osmid'].unique().tolist()\n",
    "    \n",
    "    # Calculate the OD matrix\n",
    "    od_matrix = calculate_od_matrix(orig, dest, g)\n",
    "    \n",
    "    # Restructure the OD matrix\n",
    "    new_nested_dict = {idx: od_matrix[row['closest_osmid']] for idx, row in farm.iterrows() if row['closest_osmid'] in od_matrix}\n",
    "    transport_cost = restructure_od(new_nested_dict, loi_gdf)\n",
    "    \n",
    "    # Apply cost to the transport cost\n",
    "    transport_cost = apply_cost(transport_cost)\n",
    "    \n",
    "    # Store the data to pickle\n",
    "    store_data_to_pickle(transport_cost, 'app_data', 'c_test.pickle')\n",
    "    store_data_to_pickle(loi_gdf.index.tolist(), 'app_data', 'Plant_test_2.pickle')"
   ]
  },
  {
   "cell_type": "code",
   "execution_count": 33,
   "metadata": {},
   "outputs": [
    {
     "name": "stdout",
     "output_type": "stream",
     "text": [
      "hello\n"
     ]
    }
   ],
   "source": [
    "# Execute the main function\n",
    "if __name__ == \"__main__\":\n",
    "    main()"
   ]
  }
 ],
 "metadata": {
  "interpreter": {
   "hash": "69f23fca6bff8680230af95806e5e6f087823f289b010869f54c5903d2cd69a9"
  },
  "kernelspec": {
   "display_name": "Python 3.10.2 ('geo_env')",
   "language": "python",
   "name": "python3"
  },
  "language_info": {
   "codemirror_mode": {
    "name": "ipython",
    "version": 3
   },
   "file_extension": ".py",
   "mimetype": "text/x-python",
   "name": "python",
   "nbconvert_exporter": "python",
   "pygments_lexer": "ipython3",
   "version": "3.11.9"
  },
  "orig_nbformat": 4
 },
 "nbformat": 4,
 "nbformat_minor": 2
}
